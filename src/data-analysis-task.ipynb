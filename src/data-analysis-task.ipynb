{
 "cells": [
  {
   "cell_type": "markdown",
   "metadata": {},
   "source": [
    "# Python for Data Analysis - Exercise notebook\n",
    "\n",
    "This notebook is a longer exercise for students to complete in the third session of Python for Data Analysis. It has been designed to try to replicate the process of starting a new data analysis project."
   ]
  },
  {
   "cell_type": "markdown",
   "metadata": {},
   "source": [
    "## Step 1: Project set up\n",
    "\n",
    "* Create a new folder on your local machine in which your new data analysis project will be stored\n",
    "* Create a virtual environment for the project so that we can install packages into it. Note that you will need to use a shell, or terminal window for this.\n",
    "* Install Pandas into your virtual environment (if not already present), again using the shell\n",
    "* Create a new notebook for your analysis (feel free to copy this one)"
   ]
  },
  {
   "cell_type": "code",
   "execution_count": null,
   "metadata": {
    "vscode": {
     "languageId": "plaintext"
    }
   },
   "outputs": [],
   "source": []
  },
  {
   "cell_type": "markdown",
   "metadata": {},
   "source": [
    "## Step 2: Get and load a data set\n",
    "\n",
    "* Import Pandas into your analysis notebook\n",
    "* Find a .CSV file online, and save it into your project folder. Ideally, save this in a new folder called `data` within your project folder\n",
    "* Load the data into a DataFrame using Pandas"
   ]
  },
  {
   "cell_type": "code",
   "execution_count": null,
   "metadata": {
    "vscode": {
     "languageId": "plaintext"
    }
   },
   "outputs": [],
   "source": []
  },
  {
   "cell_type": "markdown",
   "metadata": {},
   "source": [
    "## Step 3: Explore your data set\n",
    "\n",
    "* Read about the `df.info()` method in the Pandas documentation. What does it do?\n",
    "* Use it to get some information about your DataFrame"
   ]
  },
  {
   "cell_type": "code",
   "execution_count": null,
   "metadata": {
    "vscode": {
     "languageId": "plaintext"
    }
   },
   "outputs": [],
   "source": []
  },
  {
   "cell_type": "markdown",
   "metadata": {},
   "source": [
    "* Use `df.describe()` to get more information about your DataFrame. What is the difference between this and `df.info()`?"
   ]
  },
  {
   "cell_type": "code",
   "execution_count": null,
   "metadata": {
    "vscode": {
     "languageId": "plaintext"
    }
   },
   "outputs": [],
   "source": []
  },
  {
   "cell_type": "markdown",
   "metadata": {},
   "source": [
    "* Print the names of the columns of your data set."
   ]
  },
  {
   "cell_type": "code",
   "execution_count": null,
   "metadata": {
    "vscode": {
     "languageId": "plaintext"
    }
   },
   "outputs": [],
   "source": []
  },
  {
   "cell_type": "markdown",
   "metadata": {},
   "source": [
    "* Use the `df.shape()` method to get information about the shape of your DataFrame. What does this output mean?"
   ]
  },
  {
   "cell_type": "code",
   "execution_count": null,
   "metadata": {
    "vscode": {
     "languageId": "plaintext"
    }
   },
   "outputs": [],
   "source": []
  },
  {
   "cell_type": "markdown",
   "metadata": {},
   "source": [
    "* Read about the `df.head()` and `df.tail()` methods in the Pandas documentation. What do they do?\n",
    "* Use these methods with `n=5` on your DataFrame. What is `n`?\n",
    "* In separate cells, try different values of `n`."
   ]
  },
  {
   "cell_type": "code",
   "execution_count": null,
   "metadata": {
    "vscode": {
     "languageId": "plaintext"
    }
   },
   "outputs": [],
   "source": []
  },
  {
   "cell_type": "markdown",
   "metadata": {},
   "source": []
  }
 ],
 "metadata": {
  "language_info": {
   "name": "python"
  }
 },
 "nbformat": 4,
 "nbformat_minor": 2
}
