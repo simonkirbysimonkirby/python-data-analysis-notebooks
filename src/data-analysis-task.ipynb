{
 "cells": [
  {
   "cell_type": "markdown",
   "metadata": {},
   "source": [
    "# Python for Data Analysis - Exercise notebook\n",
    "\n",
    "This notebook is a longer exercise for students to complete in the third session of Python for Data Analysis. It has been designed to try to replicate the process of starting a new data analysis project."
   ]
  },
  {
   "cell_type": "markdown",
   "metadata": {},
   "source": [
    "## Step 1: Project set up\n",
    "\n",
    "* Create a new folder on your local machine in which your new data analysis project will be stored\n",
    "* Create a virtual environment for the project so that we can install packages into it. Note that you will need to use a shell, or terminal window for this.\n",
    "* Install Pandas into your virtual environment (if not already present), again using the shell\n",
    "* Create a new notebook for your analysis (feel free to copy this one)\n",
    "* Import Pandas to ensure you have installed it correctly"
   ]
  },
  {
   "cell_type": "code",
   "execution_count": null,
   "metadata": {},
   "outputs": [],
   "source": []
  },
  {
   "cell_type": "markdown",
   "metadata": {},
   "source": [
    "## Step 2: Get and load a data set\n",
    "\n",
    "* Import Pandas into your analysis notebook\n",
    "* Find a .CSV file online, and save it into your project folder. Ideally, save this in a new folder called `data` within your project folder\n",
    "* Load the data into a DataFrame using Pandas"
   ]
  },
  {
   "cell_type": "code",
   "execution_count": null,
   "metadata": {},
   "outputs": [],
   "source": []
  },
  {
   "cell_type": "markdown",
   "metadata": {},
   "source": [
    "## Step 3: Explore your data set\n",
    "\n",
    "* Read about the `df.info()` method in the Pandas documentation. What does it do?\n",
    "* Use it to get some information about your DataFrame. Read the output carefully. What does it tell you?"
   ]
  },
  {
   "cell_type": "code",
   "execution_count": null,
   "metadata": {},
   "outputs": [],
   "source": []
  },
  {
   "cell_type": "markdown",
   "metadata": {},
   "source": [
    "* Use `df.describe()` to get more information about your DataFrame. What is the difference between this and `df.info()`?"
   ]
  },
  {
   "cell_type": "code",
   "execution_count": null,
   "metadata": {},
   "outputs": [],
   "source": []
  },
  {
   "cell_type": "markdown",
   "metadata": {},
   "source": [
    "* Print the names of the columns of your data set.\n",
    "* Extra: How can we turn this into a list, just using Pandas?"
   ]
  },
  {
   "cell_type": "code",
   "execution_count": null,
   "metadata": {},
   "outputs": [],
   "source": []
  },
  {
   "cell_type": "markdown",
   "metadata": {},
   "source": [
    "* What is the other axis of a DataFrame? Print these values."
   ]
  },
  {
   "cell_type": "code",
   "execution_count": null,
   "metadata": {},
   "outputs": [],
   "source": []
  },
  {
   "cell_type": "markdown",
   "metadata": {},
   "source": [
    "* Use the `df.shape()` method to get information about the shape of your DataFrame. What does this output mean? What is the data type returned?\n",
    "* How can we access these values directly?"
   ]
  },
  {
   "cell_type": "code",
   "execution_count": null,
   "metadata": {},
   "outputs": [],
   "source": []
  },
  {
   "cell_type": "markdown",
   "metadata": {},
   "source": [
    "* Read about the `df.head()` and `df.tail()` methods in the Pandas documentation. What do they do?\n",
    "* Use these methods with `n=10` on your DataFrame. What is `n`?\n",
    "* In separate cells, try different values of `n`."
   ]
  },
  {
   "cell_type": "code",
   "execution_count": null,
   "metadata": {},
   "outputs": [],
   "source": []
  },
  {
   "cell_type": "markdown",
   "metadata": {},
   "source": [
    "* Explore the DataFrame columns. This will look different for each of you. Do not perform any boolean indexing/filtering yet.\n"
   ]
  },
  {
   "cell_type": "code",
   "execution_count": null,
   "metadata": {},
   "outputs": [],
   "source": []
  },
  {
   "cell_type": "markdown",
   "metadata": {},
   "source": [
    "* In the hills data set example:\n",
    "    - Identify the unique countries that the hills belong to in the DataFrame\n",
    "    - Identify the types of hills in the DataFrame\n",
    "    - Identify the min, max, and mean height of all hills"
   ]
  },
  {
   "cell_type": "code",
   "execution_count": null,
   "metadata": {},
   "outputs": [],
   "source": []
  },
  {
   "cell_type": "markdown",
   "metadata": {},
   "source": [
    "## Step 4: Simplify your DataFrame\n",
    "\n",
    "It is common to drop columns from a DataFrame that are not useful to you.\n",
    "\n",
    "* Drop a column that looks unimportant in your DataFrame. Dont worry, this can be retrieved by reloading the data from the .csv file."
   ]
  },
  {
   "cell_type": "code",
   "execution_count": null,
   "metadata": {},
   "outputs": [],
   "source": []
  },
  {
   "cell_type": "markdown",
   "metadata": {},
   "source": [
    "Note: It is in this step that you would perform any data cleaning required: this broad term might include deciding how to handle NaN values, filtering out any rows with other corrupted data, or applying some transformations. See the Pandas methods `df.dropna()` and `df[col_name].notna()`."
   ]
  },
  {
   "cell_type": "markdown",
   "metadata": {},
   "source": [
    "## Step 5: Selecting slices of data\n",
    "\n",
    "* Select all rows with a particular categorical variable\n",
    "* In the hills data set example, we can select all hills from Scotland"
   ]
  },
  {
   "cell_type": "code",
   "execution_count": null,
   "metadata": {},
   "outputs": [],
   "source": []
  },
  {
   "cell_type": "markdown",
   "metadata": {},
   "source": [
    "* Now select based on two categorical variables, and create a statistic\n",
    "* In the hills data set example, answer the question: `\"What is the median hill height of hills not in England?\"`"
   ]
  },
  {
   "cell_type": "code",
   "execution_count": null,
   "metadata": {},
   "outputs": [],
   "source": []
  },
  {
   "cell_type": "markdown",
   "metadata": {},
   "source": [
    "* Lets answer another question:\n",
    "\n",
    "* `\"Which country has the highest mean hill height?\"`"
   ]
  },
  {
   "cell_type": "code",
   "execution_count": null,
   "metadata": {},
   "outputs": [],
   "source": []
  },
  {
   "cell_type": "markdown",
   "metadata": {},
   "source": [
    "* However, we can do this in a better way, using the Pandas built in functions"
   ]
  },
  {
   "cell_type": "code",
   "execution_count": null,
   "metadata": {},
   "outputs": [],
   "source": []
  },
  {
   "cell_type": "markdown",
   "metadata": {},
   "source": [
    "* A final question:\n",
    "\n",
    "* `\"What percentage of hills in the data set are above 1000 meters in height?\"`\n",
    "* `\"What are the names of the tallest 5 hills?\"`"
   ]
  },
  {
   "cell_type": "code",
   "execution_count": null,
   "metadata": {},
   "outputs": [],
   "source": []
  }
 ],
 "metadata": {
  "kernelspec": {
   "display_name": ".venv",
   "language": "python",
   "name": "python3"
  },
  "language_info": {
   "codemirror_mode": {
    "name": "ipython",
    "version": 3
   },
   "file_extension": ".py",
   "mimetype": "text/x-python",
   "name": "python",
   "nbconvert_exporter": "python",
   "pygments_lexer": "ipython3",
   "version": "3.12.2"
  }
 },
 "nbformat": 4,
 "nbformat_minor": 2
}
