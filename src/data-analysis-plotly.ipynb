{
 "cells": [
  {
   "cell_type": "markdown",
   "metadata": {},
   "source": [
    "# Python for Data Analysis - Plotting with Plotly\n",
    "\n",
    "* There are many different plotting libraries for Python, including matplotlib, Plotly, Bokeh, Seaborn, and many more.\n",
    "* Matplotlib is worth learning, as it is commonly used in academic settings for creating report-ready plots.\n",
    "* However, some of the other plotting libraries, such as Plotly and Seaborn, provide a convenient way of creating interactive and visually plots.\n",
    "\n",
    "\n",
    "In this example, we will load the hills data set as before. This is the `The Database of British and Irish Hills v18` and is freely available under a Creative Commons Attribution 4 License, at `https://www.hills-database.co.uk/downloads.html`. This data set contains grid reference information for peaks, hills, and cols in Britain. "
   ]
  },
  {
   "cell_type": "code",
   "execution_count": null,
   "metadata": {},
   "outputs": [],
   "source": [
    "import os\n",
    "import pandas as pd\n",
    "\n",
    "filename = \"DoBIH_v18.csv\"\n",
    "data_folder = \"data/\"\n",
    "project_folder = \"../\"\n",
    "filepath = os.path.join(project_folder, data_folder, filename)\n",
    "\n",
    "print(f\"My data file is located at: '{filepath}'\")\n",
    "print(f\"My data path is valid: {os.path.exists(filepath)}\")\n",
    "\n",
    "df = pd.read_csv(filepath, encoding='utf-8', engine='python')"
   ]
  },
  {
   "cell_type": "markdown",
   "metadata": {},
   "source": [
    "* We can use Plotly Express, which is just Plotly with reasonable default values, to get started very quickly.\n",
    "* First lets reproduce the matplotlib bar plot example we saw previously.\n",
    "* We will need to install Plotly in our virtual environment"
   ]
  },
  {
   "cell_type": "code",
   "execution_count": null,
   "metadata": {},
   "outputs": [],
   "source": [
    "import plotly.express as px\n",
    "\n",
    "hill_count = df[\"Country\"].value_counts()\n",
    "\n",
    "fig = px.bar(\n",
    "    hill_count,\n",
    "    x=hill_count.values,\n",
    "    y=hill_count.index,\n",
    "    color=hill_count.index,\n",
    "    orientation=\"h\",\n",
    "    title=\"Number of hills in Great Britain by Country\"\n",
    "    )\n",
    "fig.show()"
   ]
  },
  {
   "cell_type": "markdown",
   "metadata": {},
   "source": [
    "* We can create many types of plots with Plotly."
   ]
  },
  {
   "cell_type": "code",
   "execution_count": null,
   "metadata": {},
   "outputs": [],
   "source": [
    "fig = px.box(df, x=\"Country\", y=\"Metres\", color=\"Country\")\n",
    "fig.show()"
   ]
  },
  {
   "cell_type": "markdown",
   "metadata": {},
   "source": [
    "* Lets recreate the scatter plot of the (lat, lon) data in Plotly."
   ]
  },
  {
   "cell_type": "code",
   "execution_count": null,
   "metadata": {},
   "outputs": [],
   "source": [
    "fig = px.scatter(\n",
    "    df, \n",
    "    x=\"Longitude\", \n",
    "    y=\"Latitude\",\n",
    "    color=\"Country\",\n",
    "    hover_data=\"Metres\",\n",
    "    title=\"Location of hills in Great Britain\"\n",
    "    )\n",
    "fig.layout.yaxis.scaleanchor=\"x\"\n",
    "fig.show()"
   ]
  },
  {
   "cell_type": "markdown",
   "metadata": {},
   "source": [
    "* Lets make the marker size smaller"
   ]
  },
  {
   "cell_type": "code",
   "execution_count": null,
   "metadata": {},
   "outputs": [],
   "source": [
    "fig = px.scatter(\n",
    "    df, \n",
    "    x=\"Longitude\", \n",
    "    y=\"Latitude\",\n",
    "    color=\"Country\",\n",
    "    hover_data=\"Metres\",\n",
    "    title=\"Location of hills in Great Britain\",\n",
    "    symbol_sequence=[\"triangle-up\"]\n",
    "    )\n",
    "fig.update_traces(marker={'size': 2})\n",
    "fig.layout.yaxis.scaleanchor=\"x\"\n",
    "fig.show()"
   ]
  },
  {
   "cell_type": "markdown",
   "metadata": {},
   "source": [
    "* And change the opacity"
   ]
  },
  {
   "cell_type": "code",
   "execution_count": null,
   "metadata": {},
   "outputs": [],
   "source": [
    "fig = px.scatter(\n",
    "    df, \n",
    "    x=\"Longitude\", \n",
    "    y=\"Latitude\",\n",
    "    color=\"Country\",\n",
    "    hover_data=\"Metres\",\n",
    "    opacity=0.6,\n",
    "    title=\"Location of hills in Great Britain\",\n",
    "    symbol_sequence=[\"triangle-up\"]\n",
    "    )\n",
    "fig.update_traces(marker={'size': 2})\n",
    "fig.layout.yaxis.scaleanchor=\"x\"\n",
    "fig.show()"
   ]
  },
  {
   "cell_type": "markdown",
   "metadata": {},
   "source": [
    "* Lets colour the points not by country, but by their height. This is a continuous variable, so a continuous colour scale should work well."
   ]
  },
  {
   "cell_type": "code",
   "execution_count": null,
   "metadata": {},
   "outputs": [],
   "source": [
    "fig = px.scatter(\n",
    "    df, \n",
    "    x=\"Longitude\", \n",
    "    y=\"Latitude\",\n",
    "    color=\"Metres\",\n",
    "    hover_data=\"Metres\",\n",
    "    title=\"Location of hills in Great Britain\",\n",
    "    symbol_sequence=[\"triangle-up\"]\n",
    "    )\n",
    "fig.update_traces(marker={'size': 3})\n",
    "fig.layout.yaxis.scaleanchor=\"x\"\n",
    "fig.show()"
   ]
  },
  {
   "cell_type": "markdown",
   "metadata": {},
   "source": [
    "* It is very easy to change the colour scale of the plot."
   ]
  },
  {
   "cell_type": "code",
   "execution_count": null,
   "metadata": {},
   "outputs": [],
   "source": [
    "fig = px.scatter(\n",
    "    df, \n",
    "    x=\"Longitude\", \n",
    "    y=\"Latitude\",\n",
    "    color=\"Metres\",\n",
    "    color_continuous_scale='Viridis',\n",
    "    hover_data=\"Metres\",\n",
    "    title=\"Location of hills in Great Britain\",\n",
    "    symbol_sequence=[\"triangle-up\"]\n",
    "    )\n",
    "fig.update_traces(marker={'size': 3})\n",
    "fig.layout.yaxis.scaleanchor=\"x\"\n",
    "fig.show()"
   ]
  },
  {
   "cell_type": "markdown",
   "metadata": {},
   "source": [
    "* Lets filter our data to include only hills above 950 metres before plotting."
   ]
  },
  {
   "cell_type": "code",
   "execution_count": null,
   "metadata": {},
   "outputs": [],
   "source": [
    "threshold_height = 700\n",
    "tall_hills_df = df.loc[df[\"Metres\"] >= threshold_height].sort_values(\"Metres\")\n",
    "\n",
    "fig = px.scatter(\n",
    "    tall_hills_df, \n",
    "    x=\"Longitude\", \n",
    "    y=\"Latitude\",\n",
    "    color=\"Metres\",\n",
    "    color_continuous_scale='Inferno',\n",
    "    hover_data=\"Metres\",\n",
    "    title=f\"Location of hills above {threshold_height} metres in Great Britain\",\n",
    "    symbol_sequence=[\"triangle-up\"]\n",
    "    )\n",
    "fig.layout.yaxis.scaleanchor=\"x\"\n",
    "fig.show()"
   ]
  },
  {
   "cell_type": "markdown",
   "metadata": {},
   "source": [
    "* This isnt ideal, however. We have plotted (lat, lon) coordinates without considering the map projection. We can do a bit than than."
   ]
  },
  {
   "cell_type": "code",
   "execution_count": null,
   "metadata": {},
   "outputs": [],
   "source": [
    "fig = px.scatter_mapbox(\n",
    "    tall_hills_df,\n",
    "    lat=\"Latitude\",\n",
    "    lon=\"Longitude\",\n",
    "    hover_name=\"Metres\",\n",
    "    color=\"Metres\",\n",
    "    color_continuous_scale='Inferno',\n",
    "    zoom=5,\n",
    "    height=700,\n",
    "    opacity=0.8,\n",
    "    mapbox_style=\"open-street-map\"\n",
    ")\n",
    "fig.update_layout(margin={\"r\": 0, \"t\": 0, \"l\": 0, \"b\": 0})\n"
   ]
  },
  {
   "cell_type": "code",
   "execution_count": null,
   "metadata": {},
   "outputs": [],
   "source": [
    "fig = px.scatter_mapbox(\n",
    "    df,\n",
    "    lat=\"Latitude\",\n",
    "    lon=\"Longitude\",\n",
    "    hover_name=\"Metres\",\n",
    "    color=\"Metres\",\n",
    "    color_continuous_scale='Inferno',\n",
    "    zoom=5,\n",
    "    height=700,\n",
    "    opacity=0.8,\n",
    "    mapbox_style=\"open-street-map\"\n",
    ")\n",
    "fig.update_layout(margin={\"r\": 0, \"t\": 0, \"l\": 0, \"b\": 0})\n"
   ]
  },
  {
   "cell_type": "markdown",
   "metadata": {},
   "source": [
    "* Lets add some boundary information."
   ]
  },
  {
   "cell_type": "code",
   "execution_count": null,
   "metadata": {},
   "outputs": [],
   "source": [
    "import requests\n",
    "import numpy as np\n",
    "\n",
    "counties_geojson_filepath = 'https://github.com/martinjc/UK-GeoJSON/raw/master/json/administrative/gb/lad.json'\n",
    "county_geojson = requests.get(counties_geojson_filepath).json()\n"
   ]
  },
  {
   "cell_type": "code",
   "execution_count": null,
   "metadata": {},
   "outputs": [],
   "source": [
    "geojson_county_names = set()\n",
    "\n",
    "for feature in county_geojson[\"features\"]:\n",
    "    geojson_county_names.add(feature[\"properties\"][\"LAD13NM\"])\n",
    "\n",
    "df_county_names = set(list(df[\"County\"].unique()))\n",
    "\n",
    "print(f\"Counties in geojson data set: {len(geojson_county_names)}\")\n",
    "print(f\"Counties in hills data set: {len(df_county_names)}\")\n",
    "    "
   ]
  },
  {
   "cell_type": "markdown",
   "metadata": {},
   "source": [
    "* There are a few more counties in the geojson file than the hill count database. This could be due to name mis-matches/incorrect labelling, or because hills are not present in certain county regions. \n",
    "* For now, lets just count the number of hills that are labelled correctly in the database. We will then colour based on the count of the hills in the region."
   ]
  },
  {
   "cell_type": "code",
   "execution_count": null,
   "metadata": {},
   "outputs": [],
   "source": [
    "hill_count_data = []\n",
    "\n",
    "for feature in county_geojson[\"features\"]:\n",
    "    d = feature[\"properties\"]\n",
    "    county_name = d[\"LAD13NM\"]\n",
    "\n",
    "    # Count hills in hill count dataset with the same county name\n",
    "    d[\"hill_count\"] = len(df.loc[df[\"County\"] == county_name])\n",
    "    hill_count_data.append(d)\n",
    "\n",
    "hill_count_df = pd.DataFrame(hill_count_data)\n",
    "hill_count_df.head(2)\n"
   ]
  },
  {
   "cell_type": "code",
   "execution_count": null,
   "metadata": {},
   "outputs": [],
   "source": [
    "fig = px.choropleth(\n",
    "    hill_count_df,\n",
    "    locations=\"LAD13NM\",\n",
    "    featureidkey=\"properties.LAD13NM\",\n",
    "    geojson=county_geojson,\n",
    "    color_continuous_scale='Viridis',\n",
    "    color=\"hill_count\",\n",
    "    title=\"UK boundaries coloured by number of hills\",\n",
    "    height=600,\n",
    ")\n",
    "fig.update_geos(fitbounds=\"locations\", visible=False)\n",
    "fig.update_layout(margin={\"r\": 0, \"l\": 0, \"b\": 0})\n",
    "fig.update_traces(marker_line_width=0.5, marker_line_color=\"white\")\n",
    "fig.show()"
   ]
  },
  {
   "cell_type": "markdown",
   "metadata": {},
   "source": [
    "* This is fine, but we can do better. Lets find the average hill height for the regions.\n",
    "* We can get the average height from the main database.\n",
    "* We dont need to loop through the geojson any more, as we have the keys in the new `hill_count_df`."
   ]
  },
  {
   "cell_type": "code",
   "execution_count": null,
   "metadata": {},
   "outputs": [],
   "source": [
    "mean_hill_heights = df.groupby(\"County\")[\"Metres\"].mean()\n",
    "\n",
    "hill_count_df[\"Mean Height Metres\"] = hill_count_df[\"LAD13NM\"].apply(lambda x: mean_hill_heights[x] if x in mean_hill_heights else 0)"
   ]
  },
  {
   "cell_type": "code",
   "execution_count": null,
   "metadata": {},
   "outputs": [],
   "source": [
    "fig = px.choropleth(\n",
    "    hill_count_df,\n",
    "    locations=\"LAD13NM\",\n",
    "    featureidkey=\"properties.LAD13NM\",\n",
    "    geojson=county_geojson,\n",
    "    color_continuous_scale='Viridis',\n",
    "    color=\"Mean Height Metres\",\n",
    "    title=\"UK boundaries coloured by mean hill height in the region\",\n",
    "    height=600,\n",
    ")\n",
    "fig.update_geos(fitbounds=\"locations\", visible=False)\n",
    "fig.update_layout(margin={\"r\": 0, \"l\": 0, \"b\": 0})\n",
    "fig.update_traces(marker_line_width=0.5, marker_line_color=\"white\")\n",
    "fig.show()"
   ]
  },
  {
   "cell_type": "markdown",
   "metadata": {},
   "source": [
    "* Lets add a Country field to the `hill_count_df` we just made, in case we want to plot just the hills in a particular country."
   ]
  },
  {
   "cell_type": "code",
   "execution_count": null,
   "metadata": {},
   "outputs": [],
   "source": [
    "code_map = {\n",
    "    \"S\": \"Scotland\",\n",
    "    \"W\": \"Wales\",\n",
    "    \"E\": \"England\",\n",
    "    \"I\": \"Ireland\",\n",
    "}\n",
    "\n",
    "# Get the first character of the LAD13CD column and use it as a key in the above map\n",
    "\n",
    "hill_count_df[\"Country\"] = hill_count_df[\"LAD13CD\"].apply(lambda x: code_map[x[0]])\n",
    "hill_count_df.head(2)"
   ]
  }
 ],
 "metadata": {
  "kernelspec": {
   "display_name": ".venv",
   "language": "python",
   "name": "python3"
  },
  "language_info": {
   "codemirror_mode": {
    "name": "ipython",
    "version": 3
   },
   "file_extension": ".py",
   "mimetype": "text/x-python",
   "name": "python",
   "nbconvert_exporter": "python",
   "pygments_lexer": "ipython3",
   "version": "3.12.2"
  }
 },
 "nbformat": 4,
 "nbformat_minor": 2
}
